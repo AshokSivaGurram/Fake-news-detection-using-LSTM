{
  "nbformat": 4,
  "nbformat_minor": 0,
  "metadata": {
    "colab": {
      "provenance": []
    },
    "kernelspec": {
      "name": "python3",
      "display_name": "Python 3"
    },
    "language_info": {
      "name": "python"
    }
  },
  "cells": [
    {
      "cell_type": "code",
      "execution_count": null,
      "metadata": {
        "colab": {
          "base_uri": "https://localhost:8080/"
        },
        "id": "8QUSPqIeEaMg",
        "outputId": "369c4bf1-ff53-433d-e741-e9d4f2b1f70b"
      },
      "outputs": [
        {
          "output_type": "stream",
          "name": "stdout",
          "text": [
            "   Unnamed: 0                                              title  \\\n",
            "0           0  LAW ENFORCEMENT ON HIGH ALERT Following Threat...   \n",
            "1           1                                                NaN   \n",
            "2           2  UNBELIEVABLE! OBAMA’S ATTORNEY GENERAL SAYS MO...   \n",
            "3           3  Bobby Jindal, raised Hindu, uses story of Chri...   \n",
            "4           4  SATAN 2: Russia unvelis an image of its terrif...   \n",
            "\n",
            "                                                text  label  \n",
            "0  No comment is expected from Barack Obama Membe...      1  \n",
            "1     Did they post their votes for Hillary already?      1  \n",
            "2   Now, most of the demonstrators gathered last ...      1  \n",
            "3  A dozen politically active pastors came here f...      0  \n",
            "4  The RS-28 Sarmat missile, dubbed Satan 2, will...      1  \n",
            "(72134, 4)\n",
            "Unnamed: 0      0\n",
            "title         558\n",
            "text           39\n",
            "label           0\n",
            "dtype: int64\n",
            "   Unnamed: 0                                              title  \\\n",
            "0           0  LAW ENFORCEMENT ON HIGH ALERT Following Threat...   \n",
            "2           2  UNBELIEVABLE! OBAMA’S ATTORNEY GENERAL SAYS MO...   \n",
            "3           3  Bobby Jindal, raised Hindu, uses story of Chri...   \n",
            "4           4  SATAN 2: Russia unvelis an image of its terrif...   \n",
            "5           5  About Time! Christian Group Sues Amazon and SP...   \n",
            "\n",
            "                                                text  label  \n",
            "0  No comment is expected from Barack Obama Membe...      1  \n",
            "2   Now, most of the demonstrators gathered last ...      1  \n",
            "3  A dozen politically active pastors came here f...      0  \n",
            "4  The RS-28 Sarmat missile, dubbed Satan 2, will...      1  \n",
            "5  All we can say on this one is it s about time ...      1  \n",
            "(71537, 3)\n",
            "(71537,)\n"
          ]
        },
        {
          "output_type": "stream",
          "name": "stderr",
          "text": [
            "[nltk_data] Downloading package stopwords to /root/nltk_data...\n",
            "[nltk_data]   Unzipping corpora/stopwords.zip.\n",
            "IOPub data rate exceeded.\n",
            "The notebook server will temporarily stop sending output\n",
            "to the client in order to avoid crashing it.\n",
            "To change this limit, set the config variable\n",
            "`--NotebookApp.iopub_data_rate_limit`.\n",
            "\n",
            "Current values:\n",
            "NotebookApp.iopub_data_rate_limit=1000000.0 (bytes/sec)\n",
            "NotebookApp.rate_limit_window=3.0 (secs)\n",
            "\n"
          ]
        },
        {
          "output_type": "stream",
          "name": "stdout",
          "text": [
            "Model: \"sequential\"\n",
            "_________________________________________________________________\n",
            " Layer (type)                Output Shape              Param #   \n",
            "=================================================================\n",
            " embedding (Embedding)       (None, 20, 40)            200000    \n",
            "                                                                 \n",
            " lstm (LSTM)                 (None, 100)               56400     \n",
            "                                                                 \n",
            " dense (Dense)               (None, 1)                 101       \n",
            "                                                                 \n",
            "=================================================================\n",
            "Total params: 256,501\n",
            "Trainable params: 256,501\n",
            "Non-trainable params: 0\n",
            "_________________________________________________________________\n",
            "None\n",
            "71537 (71537,)\n",
            "(71537, 20) (71537,)\n",
            "Epoch 1/10\n",
            "749/749 [==============================] - 40s 49ms/step - loss: 0.3266 - accuracy: 0.8548 - val_loss: 0.2586 - val_accuracy: 0.8911\n",
            "Epoch 2/10\n",
            "749/749 [==============================] - 34s 45ms/step - loss: 0.2312 - accuracy: 0.9067 - val_loss: 0.2571 - val_accuracy: 0.8933\n",
            "Epoch 3/10\n",
            "749/749 [==============================] - 40s 53ms/step - loss: 0.2056 - accuracy: 0.9179 - val_loss: 0.2517 - val_accuracy: 0.8963\n",
            "Epoch 4/10\n",
            "749/749 [==============================] - 41s 54ms/step - loss: 0.1849 - accuracy: 0.9276 - val_loss: 0.2749 - val_accuracy: 0.8886\n",
            "Epoch 5/10\n",
            "749/749 [==============================] - 35s 46ms/step - loss: 0.1627 - accuracy: 0.9348 - val_loss: 0.2812 - val_accuracy: 0.8922\n",
            "Epoch 6/10\n",
            "749/749 [==============================] - 40s 54ms/step - loss: 0.1389 - accuracy: 0.9443 - val_loss: 0.3087 - val_accuracy: 0.8894\n",
            "Epoch 7/10\n",
            "749/749 [==============================] - 36s 48ms/step - loss: 0.1186 - accuracy: 0.9522 - val_loss: 0.3313 - val_accuracy: 0.8900\n",
            "Epoch 8/10\n",
            "749/749 [==============================] - 44s 59ms/step - loss: 0.1013 - accuracy: 0.9599 - val_loss: 0.3398 - val_accuracy: 0.8906\n",
            "Epoch 9/10\n",
            "749/749 [==============================] - 36s 47ms/step - loss: 0.0860 - accuracy: 0.9652 - val_loss: 0.3987 - val_accuracy: 0.8837\n",
            "Epoch 10/10\n",
            "749/749 [==============================] - 38s 50ms/step - loss: 0.0726 - accuracy: 0.9705 - val_loss: 0.4380 - val_accuracy: 0.8842\n",
            "738/738 [==============================] - 6s 7ms/step\n",
            "              precision    recall  f1-score   support\n",
            "\n",
            "           0       0.50      1.00      0.66     11693\n",
            "           1       0.00      0.00      0.00     11915\n",
            "\n",
            "    accuracy                           0.50     23608\n",
            "   macro avg       0.25      0.50      0.33     23608\n",
            "weighted avg       0.25      0.50      0.33     23608\n",
            "\n"
          ]
        },
        {
          "output_type": "stream",
          "name": "stderr",
          "text": [
            "/usr/local/lib/python3.9/dist-packages/sklearn/metrics/_classification.py:1344: UndefinedMetricWarning: Precision and F-score are ill-defined and being set to 0.0 in labels with no predicted samples. Use `zero_division` parameter to control this behavior.\n",
            "  _warn_prf(average, modifier, msg_start, len(result))\n",
            "/usr/local/lib/python3.9/dist-packages/sklearn/metrics/_classification.py:1344: UndefinedMetricWarning: Precision and F-score are ill-defined and being set to 0.0 in labels with no predicted samples. Use `zero_division` parameter to control this behavior.\n",
            "  _warn_prf(average, modifier, msg_start, len(result))\n",
            "/usr/local/lib/python3.9/dist-packages/sklearn/metrics/_classification.py:1344: UndefinedMetricWarning: Precision and F-score are ill-defined and being set to 0.0 in labels with no predicted samples. Use `zero_division` parameter to control this behavior.\n",
            "  _warn_prf(average, modifier, msg_start, len(result))\n"
          ]
        }
      ],
      "source": [
        "import pandas as pd\n",
        "df=pd.read_csv(\"/content/drive/MyDrive/Fake news using LSTM dataset/WELFake_Dataset.csv/WELFake_Dataset.csv\")\n",
        "# print(df)\n",
        "print(df.head())\n",
        "print(df.shape)\n",
        "print(df.isnull().sum())\n",
        "df=df.dropna()\n",
        "print(df.head())\n",
        "x=df.drop('label',axis=1)\n",
        "y=df['label']\n",
        "print(x.shape)\n",
        "print(y.shape)\n",
        "\n",
        "\n",
        "import tensorflow as tf\n",
        "from tensorflow.keras.layers import Embedding\n",
        "from tensorflow.keras.layers import LSTM\n",
        "from tensorflow.keras.layers import Dense\n",
        "from tensorflow.keras.preprocessing.sequence import pad_sequences\n",
        "from tensorflow.keras.models import Sequential\n",
        "from tensorflow.keras.preprocessing.text import one_hot\n",
        "\n",
        "voc_size=5000\n",
        "messages=x.copy()\n",
        "# messages['title'][1]\n",
        "messages.reset_index(inplace=True)\n",
        "#print(messages)\n",
        "\n",
        "import nltk\n",
        "import re\n",
        "from nltk.corpus import stopwords\n",
        "\n",
        "nltk.download('stopwords')\n",
        "\n",
        "from nltk.stem.porter import PorterStemmer\n",
        "ps=PorterStemmer()\n",
        "corpus=[]\n",
        "for i in range(0,len(messages)):\n",
        "    review=re.sub('[^a-zA-Z]',' ',messages['title'][i])\n",
        "    review=review.lower()\n",
        "    review=review.split()\n",
        "    review=[ps.stem(word) for word in review if not word in stopwords.words('english')]\n",
        "    review=' '.join(review)\n",
        "    corpus.append(review)\n",
        "\n",
        "# print(corpus)\n",
        "\n",
        "onehot_repr=[one_hot(words,voc_size) for words in corpus]\n",
        "print(onehot_repr)\n",
        "\n",
        "\n",
        "sent_length=20\n",
        "embedded_docs=pad_sequences(onehot_repr,padding='post',maxlen=sent_length)\n",
        "print(embedded_docs)\n",
        "\n",
        "\n",
        "embedding_vector_features=40\n",
        "model=Sequential()\n",
        "model.add(Embedding(voc_size,embedding_vector_features,input_length=sent_length))\n",
        "model.add(LSTM(100))\n",
        "model.add(Dense(1,activation='sigmoid'))\n",
        "model.compile(loss='binary_crossentropy',optimizer='adam',metrics=['accuracy'])\n",
        "print(model.summary())\n",
        "\n",
        "print(len(embedded_docs),y.shape)\n",
        "\n",
        "import numpy as np\n",
        "x_final=np.array(embedded_docs)\n",
        "y_final=np.array(y)\n",
        "\n",
        "print(x_final.shape,y_final.shape)\n",
        "from sklearn.model_selection import train_test_split\n",
        "x_train,x_test,y_train,y_test = train_test_split(x_final,y_final,test_size=0.33,random_state=42)\n",
        "model.fit(x_train,y_train,validation_data=(x_test,y_test),epochs=10,batch_size=64)\n",
        "\n",
        "\n",
        "from tensorflow.keras.layers import Dropout\n",
        "embedding_vector_features=40\n",
        "model=Sequential()\n",
        "model.add(Embedding(voc_size,embedding_vector_features,input_length=sent_length))\n",
        "model.add(Dropout(0.3))\n",
        "model.add(LSTM(100))\n",
        "model.add(Dropout(0.3))\n",
        "model.add(Dense(1,activation='sigmoid'))\n",
        "model.compile(loss='binary_crossentropy',optimizer='adam',metrics=['accuracy'])\n",
        "y_pred=model.predict(x_test)\n",
        "y_pred=np.where(y_pred>0.6,1,0)\n",
        "from sklearn.metrics import confusion_matrix\n",
        "confusion_matrix(y_test,y_pred)\n",
        "from sklearn.metrics import accuracy_score\n",
        "accuracy_score(y_test,y_pred)\n",
        "from sklearn.metrics import classification_report\n",
        "print(classification_report(y_test,y_pred))\n",
        "\n",
        "\n"
      ]
    },
    {
      "cell_type": "code",
      "source": [
        "print(\"G.Siva Ashok (9920004530)\")\n",
        "print(classification_report(y_test,y_pred))"
      ],
      "metadata": {
        "colab": {
          "base_uri": "https://localhost:8080/"
        },
        "id": "qDoPIzh9ErBs",
        "outputId": "9c2f3384-6a85-4c89-e048-ff2af0a6283b"
      },
      "execution_count": null,
      "outputs": [
        {
          "output_type": "stream",
          "name": "stdout",
          "text": [
            "G.Siva Ashok (9920004530)\n",
            "              precision    recall  f1-score   support\n",
            "\n",
            "           0       0.50      1.00      0.66     11693\n",
            "           1       0.00      0.00      0.00     11915\n",
            "\n",
            "    accuracy                           0.50     23608\n",
            "   macro avg       0.25      0.50      0.33     23608\n",
            "weighted avg       0.25      0.50      0.33     23608\n",
            "\n"
          ]
        },
        {
          "output_type": "stream",
          "name": "stderr",
          "text": [
            "/usr/local/lib/python3.9/dist-packages/sklearn/metrics/_classification.py:1344: UndefinedMetricWarning: Precision and F-score are ill-defined and being set to 0.0 in labels with no predicted samples. Use `zero_division` parameter to control this behavior.\n",
            "  _warn_prf(average, modifier, msg_start, len(result))\n",
            "/usr/local/lib/python3.9/dist-packages/sklearn/metrics/_classification.py:1344: UndefinedMetricWarning: Precision and F-score are ill-defined and being set to 0.0 in labels with no predicted samples. Use `zero_division` parameter to control this behavior.\n",
            "  _warn_prf(average, modifier, msg_start, len(result))\n",
            "/usr/local/lib/python3.9/dist-packages/sklearn/metrics/_classification.py:1344: UndefinedMetricWarning: Precision and F-score are ill-defined and being set to 0.0 in labels with no predicted samples. Use `zero_division` parameter to control this behavior.\n",
            "  _warn_prf(average, modifier, msg_start, len(result))\n"
          ]
        }
      ]
    },
    {
      "cell_type": "code",
      "source": [],
      "metadata": {
        "id": "VhzUQJXsG9Zl"
      },
      "execution_count": null,
      "outputs": []
    }
  ]
}